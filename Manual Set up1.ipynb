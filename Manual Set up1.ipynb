{
 "cells": [
  {
   "cell_type": "code",
   "execution_count": 1,
   "id": "d15d30c7",
   "metadata": {},
   "outputs": [],
   "source": [
    "import numpy as np\n",
    "import pandas as pd\n",
    "import matplotlib.pyplot as plt\n",
    "\n",
    "path = 'DATA'\n",
    "data_init = pd.read_pickle(path + '/data_test_nn.pkl')\n",
    "\n",
    "size = 100\n",
    "# data = pd.concat([data_init[0:3], data_init[50])\n",
    "data = data_init\n",
    "\n",
    "\n",
    "data['MAX_DEBT_GRP_9M'] = data['MAX_DEBT_GRP_9M'].fillna(-2)\n",
    "\n",
    "var = ['MAX_DEBT_GRP_9M', 'AMT_AVAIL_LIAB']\n",
    "\n",
    "X = data[var].to_numpy()\n",
    "Y = data['BAD'].to_numpy()\n",
    "\n",
    "X_init = X.copy()\n",
    "Y_init = Y.copy()"
   ]
  },
  {
   "cell_type": "code",
   "execution_count": 2,
   "id": "dc70c63f",
   "metadata": {},
   "outputs": [],
   "source": [
    "from sklearn.preprocessing import MinMaxScaler\n",
    "\n",
    "scaler = MinMaxScaler(feature_range=(-2,3))\n",
    "X = scaler.fit_transform(X)"
   ]
  },
  {
   "cell_type": "code",
   "execution_count": 3,
   "id": "090be98a",
   "metadata": {},
   "outputs": [],
   "source": [
    "#Setup layers\n",
    "layers = [2,3,3,1]"
   ]
  },
  {
   "cell_type": "code",
   "execution_count": 22,
   "id": "22ce668e",
   "metadata": {},
   "outputs": [],
   "source": [
    "def sigmoid(x):\n",
    "    return 1/(1+np.exp(-x))\n",
    "def sigmoid_derivative(x):\n",
    "    return x*(1-x)"
   ]
  },
  {
   "cell_type": "markdown",
   "id": "93770620",
   "metadata": {},
   "source": [
    "[<tf.Variable 'dense_18/kernel:0' shape=(2, 3) dtype=float32, numpy=\n",
    " array([[ 0.5631693 , -0.67108387,  0.5104649 ],\n",
    "        [ 1.3093847 , -0.16734126, -1.0386293 ]], dtype=float32)>,\n",
    " <tf.Variable 'dense_18/bias:0' shape=(3,) dtype=float32, numpy=array([0., 0., 0.], dtype=float32)>,\n",
    " <tf.Variable 'dense_19/kernel:0' shape=(3, 3) dtype=float32, numpy=\n",
    " array([[ 0.51410085, -0.61261296,  0.46598858],\n",
    "        [ 1.1952993 , -0.15276097, -0.94813454],\n",
    "        [-0.7538571 , -0.11811214, -0.5824808 ]], dtype=float32)>,\n",
    " <tf.Variable 'dense_19/bias:0' shape=(3,) dtype=float32, numpy=array([0., 0., 0.], dtype=float32)>,\n",
    " <tf.Variable 'dense_20/kernel:0' shape=(3, 1) dtype=float32, numpy=\n",
    " array([[ 0.62964237],\n",
    "        [-0.75029457],\n",
    "        [ 0.5707171 ]], dtype=float32)>,\n",
    " <tf.Variable 'dense_20/bias:0' shape=(1,) dtype=float32, numpy=array([0.], dtype=float32)>]"
   ]
  },
  {
   "cell_type": "code",
   "execution_count": 5,
   "id": "13e8dcd7",
   "metadata": {},
   "outputs": [],
   "source": [
    "#learning rate \n",
    "alpha = 0.1"
   ]
  },
  {
   "cell_type": "code",
   "execution_count": 19,
   "id": "e29d14fd",
   "metadata": {},
   "outputs": [],
   "source": [
    "def fit_partial(X, Y):\n",
    "    A = [X]\n",
    "    out = A[-1]\n",
    "    for i in range(0, len(layers) - 1):\n",
    "        out = sigmoid(np.dot(out, W[i]) + (b[i].T))\n",
    "        A.append(out)\n",
    "    ##backpropagation\n",
    "    Y = Y.reshape(-1, 1)\n",
    "    dA = [-(Y/A[-1] - (1-Y)/(1-A[-1]))]\n",
    "#     print(type(dA)) \n",
    "    dW = []\n",
    "    db = []\n",
    "    for i in reversed(range(0, len(layers)-1)):\n",
    "        dw_ = np.dot((A[i]).T, dA[-1] * sigmoid_derivative(A[i+1]))\n",
    "        db_ = (np.sum(dA[-1] * sigmoid_derivative(A[i+1]), 0)).reshape(-1,1)\n",
    "        dA_ = np.dot(dA[-1] * sigmoid_derivative(A[i+1]), W[i].T)\n",
    "        dW.append(dw_)\n",
    "        db.append(db_)\n",
    "        dA.append(dA_)\n",
    "    #Đảo dW, db\n",
    "    dW = dW[::-1]\n",
    "    db = db[::-1]\n",
    "    # Gradient descent\n",
    "    for i in range(0, len(layers)-1):\n",
    "        W[i] = W[i] - alpha * dW[i]\n",
    "        b[i] = b[i] - alpha * db[i]\n",
    "    return W,b\n",
    "\n",
    "def predict(X):\n",
    "    for i in range(0, len(layers) - 1):\n",
    "        X = sigmoid(np.dot(X, W[i]) + (b[i].T))\n",
    "    return X\n",
    "\n",
    "def calculate_loss(X, y):\n",
    "    y_predict = predict(X)\n",
    "    return -(np.sum(y.reshape(y.shape[0],1)*np.log(y_predict) + (1-y).reshape(y.shape[0],1)*np.log(1-y_predict))) / y.shape[0]\n",
    "\n",
    "def fit(X, y, epochs, verbose):\n",
    "    t = []\n",
    "    l = []\n",
    "    for epoch in range(0, epochs):\n",
    "        t.append(epoch)\n",
    "        fit_partial(X, y)\n",
    "        loss = calculate_loss(X, y)\n",
    "        l.append(loss)\n",
    "#         print(X,' ', y)\n",
    "        print(\"Epoch {}, loss {}\".format(epoch, loss))\n",
    "#     plt.plot(t,l)\n",
    "#     plt.show()\n",
    "#     print(W,b)"
   ]
  },
  {
   "cell_type": "code",
   "execution_count": 7,
   "id": "d3334536",
   "metadata": {},
   "outputs": [
    {
     "name": "stdout",
     "output_type": "stream",
     "text": [
      "Epoch 0, loss 0.8764251143891951\n",
      "Epoch 0, loss 0.8099371509996431\n",
      "Epoch 0, loss 0.6765420030311203\n",
      "Epoch 0, loss 0.6435519874478905\n",
      "Epoch 0, loss 0.6706774870740889\n",
      "Epoch 0, loss 0.5192485772707838\n",
      "Epoch 0, loss 0.49147248054599835\n",
      "Epoch 0, loss 0.5546107022063455\n",
      "Epoch 0, loss 0.5255920520686345\n",
      "Epoch 0, loss 0.41923051765388303\n",
      "Epoch 0, loss 0.3926333491935201\n",
      "Epoch 0, loss 0.38030795892199837\n",
      "Epoch 0, loss 0.3630107656370107\n",
      "Epoch 0, loss 0.3970849812635354\n",
      "Epoch 0, loss 0.33209487345820715\n",
      "Epoch 0, loss 0.3187931448148569\n",
      "Epoch 0, loss 0.3031054191096652\n",
      "Epoch 0, loss 0.28826485516738937\n",
      "Epoch 0, loss 0.27836189477307055\n",
      "Epoch 0, loss 0.2671314059644178\n",
      "Epoch 0, loss 0.258633346636753\n",
      "Epoch 0, loss 0.248381483161971\n",
      "Epoch 0, loss 0.2397804962700114\n",
      "Epoch 0, loss 0.2388779430369743\n",
      "Epoch 0, loss 0.22594598845978417\n",
      "Epoch 0, loss 0.21825064484815754\n",
      "Epoch 0, loss 0.2237929793543156\n",
      "Epoch 0, loss 0.20895129135006968\n",
      "Epoch 0, loss 0.19912850147113148\n",
      "Epoch 0, loss 0.1933960787875195\n",
      "Epoch 0, loss 0.20130693541625339\n",
      "Epoch 0, loss 0.19447168320659156\n",
      "Epoch 0, loss 0.17952253911964283\n",
      "Epoch 0, loss 0.18316981856835657\n",
      "Epoch 0, loss 0.16631193641272346\n",
      "Epoch 0, loss 0.17477965941289472\n",
      "Epoch 0, loss 0.15734810592081916\n",
      "Epoch 0, loss 0.1780731927366959\n",
      "Epoch 0, loss 0.15885344117134997\n",
      "Epoch 0, loss 0.1446914212301941\n",
      "Epoch 0, loss 0.14235937750804445\n",
      "Epoch 0, loss 0.1392139821116836\n",
      "Epoch 0, loss 0.14016042087585964\n",
      "Epoch 0, loss 0.1316349656748864\n",
      "Epoch 0, loss 0.12980300994573218\n",
      "Epoch 0, loss 0.1464635398880184\n",
      "Epoch 0, loss 0.12338716931503378\n",
      "Epoch 0, loss 0.12025369877426033\n",
      "Epoch 0, loss 0.13484166521519006\n",
      "Epoch 0, loss 0.11657783918537036\n",
      "Epoch 0, loss 2.0107830634499293\n",
      "Epoch 0, loss 1.8732663780044594\n",
      "Epoch 0, loss 1.758232754772496\n",
      "Epoch 0, loss 1.637947578438265\n",
      "Epoch 0, loss 1.5310331570365552\n",
      "Epoch 0, loss 1.421967549958819\n",
      "Epoch 0, loss 1.3361953177208907\n",
      "Epoch 0, loss 1.2509732520134909\n",
      "Epoch 0, loss 1.0732473960907047\n",
      "Epoch 0, loss 1.1281942077199878\n",
      "Epoch 0, loss 1.0389361494587457\n",
      "Epoch 0, loss 0.9759370015630832\n",
      "Epoch 0, loss 0.9112335332567781\n",
      "Epoch 0, loss 0.8260410610756914\n",
      "Epoch 0, loss 0.8038339867412501\n",
      "Epoch 0, loss 0.7529971207226065\n",
      "Epoch 0, loss 0.7086134019201124\n",
      "Epoch 0, loss 0.6559228445761994\n",
      "Epoch 0, loss 0.6184644291738403\n",
      "Epoch 0, loss 0.5895423688814817\n",
      "Epoch 0, loss 0.535287741763745\n",
      "Epoch 0, loss 0.5273907272125272\n",
      "Epoch 0, loss 0.4994245302049212\n",
      "Epoch 0, loss 0.46202472680387413\n",
      "Epoch 0, loss 0.46105313173453144\n",
      "Epoch 0, loss 0.42592057900097186\n",
      "Epoch 0, loss 0.41493637034180386\n",
      "Epoch 0, loss 0.3953954717110905\n",
      "Epoch 0, loss 0.3249708031446737\n",
      "Epoch 0, loss 0.36205535449151977\n",
      "Epoch 0, loss 0.3456862438632624\n",
      "Epoch 0, loss 0.33403267627584204\n",
      "Epoch 0, loss 0.32089894095039473\n",
      "Epoch 0, loss 0.31025074320829243\n",
      "Epoch 0, loss 0.29454435079657726\n",
      "Epoch 0, loss 0.28775400869766055\n",
      "Epoch 0, loss 0.27448634743604683\n",
      "Epoch 0, loss 0.2654755023344198\n",
      "Epoch 0, loss 0.25199151421377225\n",
      "Epoch 0, loss 0.1945088460210757\n",
      "Epoch 0, loss 0.23968684664857853\n",
      "Epoch 0, loss 0.22908500739492219\n",
      "Epoch 0, loss 0.22391950786304116\n",
      "Epoch 0, loss 0.21890720656260593\n",
      "Epoch 0, loss 0.2039977126406829\n",
      "Epoch 0, loss 0.20801077796763534\n",
      "Epoch 0, loss 0.19849509544695546\n",
      "Epoch 0, loss 0.1896603707887223\n",
      "Epoch 0, loss 0.18669009120342392\n",
      "Epoch 0, loss 0.1588902898262654\n"
     ]
    }
   ],
   "source": [
    "W = [np.array([[ 0.5631693 , -0.67108387,  0.5104649 ], [ 1.3093847 , -0.16734126, -1.0386293 ]]),\n",
    "     np.array([[ 0.51410085, -0.61261296,  0.46598858], [ 1.1952993 , -0.15276097, -0.94813454], [-0.7538571 , -0.11811214, -0.5824808 ]]),\n",
    "     np.array([[ 0.62964237], [-0.75029457], [ 0.5707171 ]])]\n",
    "b = [np.array([[0], [0], [0]]), np.array([[ 0], [0], [0]]), np.array([[0.]])]\n",
    "\n",
    "for i in range(size):\n",
    "    fit(X=X[i:i+1], y=Y[i:i+1], epochs=1, verbose=1)"
   ]
  },
  {
   "cell_type": "code",
   "execution_count": 8,
   "id": "ba927663",
   "metadata": {},
   "outputs": [
    {
     "data": {
      "text/plain": [
       "1.0237062110657302"
      ]
     },
     "execution_count": 8,
     "metadata": {},
     "output_type": "execute_result"
    }
   ],
   "source": [
    "calculate_loss(X, Y)"
   ]
  },
  {
   "cell_type": "code",
   "execution_count": 9,
   "id": "5d54e179",
   "metadata": {},
   "outputs": [],
   "source": [
    "import tensorflow as tf\n",
    "from tensorflow.keras.models import Sequential, Model\n",
    "from tensorflow.keras.optimizers import Adam\n",
    "from tensorflow.keras.metrics import AUC\n",
    "from tensorflow.keras.optimizers import SGD\n",
    "\n",
    "init = tf.keras.initializers.GlorotNormal(seed=123)"
   ]
  },
  {
   "cell_type": "code",
   "execution_count": 10,
   "id": "602d475a",
   "metadata": {},
   "outputs": [],
   "source": [
    "learning_rate = 0.1\n",
    "model = tf.keras.Sequential([\n",
    "    tf.keras.layers.Dense(3, input_shape=(X.shape[1],), activation='sigmoid',kernel_initializer=init),\n",
    "    tf.keras.layers.Dense(3, activation='sigmoid',kernel_initializer=init),\n",
    "    tf.keras.layers.Dense(1, activation='sigmoid',kernel_initializer=init)\n",
    "])\n",
    "\n",
    "model.compile(optimizer=SGD(learning_rate=0.1), loss='binary_crossentropy')"
   ]
  },
  {
   "cell_type": "code",
   "execution_count": 11,
   "id": "6fbb6b97",
   "metadata": {},
   "outputs": [
    {
     "data": {
      "text/plain": [
       "[<tf.Variable 'dense/kernel:0' shape=(2, 3) dtype=float32, numpy=\n",
       " array([[ 0.5631693 , -0.67108387,  0.5104649 ],\n",
       "        [ 1.3093847 , -0.16734126, -1.0386293 ]], dtype=float32)>,\n",
       " <tf.Variable 'dense/bias:0' shape=(3,) dtype=float32, numpy=array([0., 0., 0.], dtype=float32)>,\n",
       " <tf.Variable 'dense_1/kernel:0' shape=(3, 3) dtype=float32, numpy=\n",
       " array([[ 0.51410085, -0.61261296,  0.46598858],\n",
       "        [ 1.1952993 , -0.15276097, -0.94813454],\n",
       "        [-0.7538571 , -0.11811214, -0.5824808 ]], dtype=float32)>,\n",
       " <tf.Variable 'dense_1/bias:0' shape=(3,) dtype=float32, numpy=array([0., 0., 0.], dtype=float32)>,\n",
       " <tf.Variable 'dense_2/kernel:0' shape=(3, 1) dtype=float32, numpy=\n",
       " array([[ 0.62964237],\n",
       "        [-0.75029457],\n",
       "        [ 0.5707171 ]], dtype=float32)>,\n",
       " <tf.Variable 'dense_2/bias:0' shape=(1,) dtype=float32, numpy=array([0.], dtype=float32)>]"
      ]
     },
     "execution_count": 11,
     "metadata": {},
     "output_type": "execute_result"
    }
   ],
   "source": [
    "model.weights"
   ]
  },
  {
   "cell_type": "code",
   "execution_count": 12,
   "id": "a67aa762",
   "metadata": {},
   "outputs": [
    {
     "name": "stdout",
     "output_type": "stream",
     "text": [
      "Model: \"sequential\"\n",
      "_________________________________________________________________\n",
      " Layer (type)                Output Shape              Param #   \n",
      "=================================================================\n",
      " dense (Dense)               (None, 3)                 9         \n",
      "                                                                 \n",
      " dense_1 (Dense)             (None, 3)                 12        \n",
      "                                                                 \n",
      " dense_2 (Dense)             (None, 1)                 4         \n",
      "                                                                 \n",
      "=================================================================\n",
      "Total params: 25\n",
      "Trainable params: 25\n",
      "Non-trainable params: 0\n",
      "_________________________________________________________________\n"
     ]
    }
   ],
   "source": [
    "model.summary()"
   ]
  },
  {
   "cell_type": "code",
   "execution_count": 13,
   "id": "0878510f",
   "metadata": {},
   "outputs": [
    {
     "name": "stdout",
     "output_type": "stream",
     "text": [
      "100/100 [==============================] - 0s 876us/step - loss: 0.4983\n"
     ]
    },
    {
     "data": {
      "text/plain": [
       "<keras.callbacks.History at 0x28941275b80>"
      ]
     },
     "execution_count": 13,
     "metadata": {},
     "output_type": "execute_result"
    }
   ],
   "source": [
    "model.fit(X, Y, epochs=1, batch_size=1, shuffle=False)"
   ]
  },
  {
   "cell_type": "code",
   "execution_count": 14,
   "id": "6120bb1a",
   "metadata": {},
   "outputs": [
    {
     "name": "stdout",
     "output_type": "stream",
     "text": [
      "100/100 [==============================] - 0s 765us/step - loss: 1.0237\n"
     ]
    },
    {
     "data": {
      "text/plain": [
       "1.023706316947937"
      ]
     },
     "execution_count": 14,
     "metadata": {},
     "output_type": "execute_result"
    }
   ],
   "source": [
    "model.evaluate(X, Y, batch_size=1)"
   ]
  },
  {
   "cell_type": "code",
   "execution_count": 17,
   "id": "84730baa",
   "metadata": {},
   "outputs": [
    {
     "data": {
      "text/plain": [
       "[<tf.Variable 'dense/kernel:0' shape=(2, 3) dtype=float32, numpy=\n",
       " array([[ 0.6725793 , -0.687065  ,  0.49847677],\n",
       "        [ 1.2153368 , -0.16997623, -1.0133688 ]], dtype=float32)>,\n",
       " <tf.Variable 'dense/bias:0' shape=(3,) dtype=float32, numpy=array([ 0.04090656,  0.00107377, -0.01050736], dtype=float32)>,\n",
       " <tf.Variable 'dense_1/kernel:0' shape=(3, 3) dtype=float32, numpy=\n",
       " array([[ 0.5249595 , -0.6253261 ,  0.48223156],\n",
       "        [ 1.2448055 , -0.13000713, -0.9026431 ],\n",
       "        [-0.6368713 , -0.3336208 , -0.4305315 ]], dtype=float32)>,\n",
       " <tf.Variable 'dense_1/bias:0' shape=(3,) dtype=float32, numpy=array([ 0.11473031, -0.13188489,  0.13893947], dtype=float32)>,\n",
       " <tf.Variable 'dense_2/kernel:0' shape=(3, 1) dtype=float32, numpy=\n",
       " array([[ 0.9252008 ],\n",
       "        [-0.39796114],\n",
       "        [ 0.86730605]], dtype=float32)>,\n",
       " <tf.Variable 'dense_2/bias:0' shape=(1,) dtype=float32, numpy=array([0.90197116], dtype=float32)>]"
      ]
     },
     "execution_count": 17,
     "metadata": {},
     "output_type": "execute_result"
    }
   ],
   "source": [
    "model.weights"
   ]
  },
  {
   "cell_type": "code",
   "execution_count": 114,
   "id": "9abcec3f",
   "metadata": {},
   "outputs": [
    {
     "data": {
      "text/plain": [
       "[array([[ 0.67257958, -0.68706499,  0.49847667],\n",
       "        [ 1.21533657, -0.16997617, -1.01336864]]),\n",
       " array([[ 0.52495945, -0.62532626,  0.48223147],\n",
       "        [ 1.24480524, -0.13000709, -0.9026433 ],\n",
       "        [-0.63687133, -0.33362074, -0.43053157]]),\n",
       " array([[ 0.92520068],\n",
       "        [-0.39796104],\n",
       "        [ 0.867306  ]])]"
      ]
     },
     "execution_count": 114,
     "metadata": {},
     "output_type": "execute_result"
    }
   ],
   "source": [
    "W"
   ]
  },
  {
   "cell_type": "code",
   "execution_count": 84,
   "id": "58178e3e",
   "metadata": {},
   "outputs": [
    {
     "data": {
      "text/plain": [
       "[array([[-0.00169272],\n",
       "        [-0.00101954],\n",
       "        [ 0.00143463]]),\n",
       " array([[-0.01861177],\n",
       "        [ 0.03023618],\n",
       "        [-0.0210513 ]]),\n",
       " array([[-0.17032798]])]"
      ]
     },
     "execution_count": 84,
     "metadata": {},
     "output_type": "execute_result"
    }
   ],
   "source": [
    "b"
   ]
  },
  {
   "cell_type": "markdown",
   "id": "fb6ada3c",
   "metadata": {},
   "source": [
    "### Test mẫu nhỏ"
   ]
  },
  {
   "cell_type": "code",
   "execution_count": 2,
   "id": "651ecee2",
   "metadata": {},
   "outputs": [],
   "source": [
    "import numpy as np\n",
    "import pandas as pd\n",
    "import matplotlib.pyplot as plt"
   ]
  },
  {
   "cell_type": "code",
   "execution_count": 3,
   "id": "be953eea",
   "metadata": {},
   "outputs": [
    {
     "data": {
      "text/html": [
       "<div>\n",
       "<style scoped>\n",
       "    .dataframe tbody tr th:only-of-type {\n",
       "        vertical-align: middle;\n",
       "    }\n",
       "\n",
       "    .dataframe tbody tr th {\n",
       "        vertical-align: top;\n",
       "    }\n",
       "\n",
       "    .dataframe thead th {\n",
       "        text-align: right;\n",
       "    }\n",
       "</style>\n",
       "<table border=\"1\" class=\"dataframe\">\n",
       "  <thead>\n",
       "    <tr style=\"text-align: right;\">\n",
       "      <th></th>\n",
       "      <th>CIF</th>\n",
       "      <th>MAX_DEBT_GRP_9M</th>\n",
       "      <th>AMT_AVAIL_LIAB</th>\n",
       "      <th>BAD</th>\n",
       "    </tr>\n",
       "  </thead>\n",
       "  <tbody>\n",
       "    <tr>\n",
       "      <th>0</th>\n",
       "      <td>4824585</td>\n",
       "      <td>-1.0</td>\n",
       "      <td>72870429.83</td>\n",
       "      <td>0.0</td>\n",
       "    </tr>\n",
       "    <tr>\n",
       "      <th>1</th>\n",
       "      <td>4824586</td>\n",
       "      <td>-1.0</td>\n",
       "      <td>72960000.95</td>\n",
       "      <td>0.0</td>\n",
       "    </tr>\n",
       "    <tr>\n",
       "      <th>2</th>\n",
       "      <td>4824587</td>\n",
       "      <td>-1.0</td>\n",
       "      <td>31920903.02</td>\n",
       "      <td>0.0</td>\n",
       "    </tr>\n",
       "    <tr>\n",
       "      <th>3</th>\n",
       "      <td>4824589</td>\n",
       "      <td>NaN</td>\n",
       "      <td>40008609.78</td>\n",
       "      <td>0.0</td>\n",
       "    </tr>\n",
       "    <tr>\n",
       "      <th>4</th>\n",
       "      <td>4824603</td>\n",
       "      <td>-1.0</td>\n",
       "      <td>96552065.93</td>\n",
       "      <td>0.0</td>\n",
       "    </tr>\n",
       "  </tbody>\n",
       "</table>\n",
       "</div>"
      ],
      "text/plain": [
       "       CIF  MAX_DEBT_GRP_9M  AMT_AVAIL_LIAB  BAD\n",
       "0  4824585             -1.0     72870429.83  0.0\n",
       "1  4824586             -1.0     72960000.95  0.0\n",
       "2  4824587             -1.0     31920903.02  0.0\n",
       "3  4824589              NaN     40008609.78  0.0\n",
       "4  4824603             -1.0     96552065.93  0.0"
      ]
     },
     "execution_count": 3,
     "metadata": {},
     "output_type": "execute_result"
    }
   ],
   "source": [
    "data = pd.read_pickle('./data_test_nn.pkl')\n",
    "data.head()"
   ]
  },
  {
   "cell_type": "code",
   "execution_count": 4,
   "id": "61935aaa",
   "metadata": {},
   "outputs": [],
   "source": [
    "data['MAX_DEBT_GRP_9M'] = data['MAX_DEBT_GRP_9M'].fillna(-2)"
   ]
  },
  {
   "cell_type": "code",
   "execution_count": 48,
   "id": "7e5d656c",
   "metadata": {},
   "outputs": [
    {
     "data": {
      "text/html": [
       "<div>\n",
       "<style scoped>\n",
       "    .dataframe tbody tr th:only-of-type {\n",
       "        vertical-align: middle;\n",
       "    }\n",
       "\n",
       "    .dataframe tbody tr th {\n",
       "        vertical-align: top;\n",
       "    }\n",
       "\n",
       "    .dataframe thead th {\n",
       "        text-align: right;\n",
       "    }\n",
       "</style>\n",
       "<table border=\"1\" class=\"dataframe\">\n",
       "  <thead>\n",
       "    <tr style=\"text-align: right;\">\n",
       "      <th></th>\n",
       "      <th>CIF</th>\n",
       "      <th>MAX_DEBT_GRP_9M</th>\n",
       "      <th>AMT_AVAIL_LIAB</th>\n",
       "      <th>BAD</th>\n",
       "    </tr>\n",
       "  </thead>\n",
       "  <tbody>\n",
       "    <tr>\n",
       "      <th>0</th>\n",
       "      <td>4824585</td>\n",
       "      <td>-1.0</td>\n",
       "      <td>72870429.83</td>\n",
       "      <td>0.0</td>\n",
       "    </tr>\n",
       "    <tr>\n",
       "      <th>1</th>\n",
       "      <td>4824586</td>\n",
       "      <td>-1.0</td>\n",
       "      <td>72960000.95</td>\n",
       "      <td>0.0</td>\n",
       "    </tr>\n",
       "    <tr>\n",
       "      <th>2</th>\n",
       "      <td>4824587</td>\n",
       "      <td>-1.0</td>\n",
       "      <td>31920903.02</td>\n",
       "      <td>0.0</td>\n",
       "    </tr>\n",
       "    <tr>\n",
       "      <th>51</th>\n",
       "      <td>4824862</td>\n",
       "      <td>2.0</td>\n",
       "      <td>4434012.32</td>\n",
       "      <td>1.0</td>\n",
       "    </tr>\n",
       "    <tr>\n",
       "      <th>52</th>\n",
       "      <td>4825573</td>\n",
       "      <td>2.0</td>\n",
       "      <td>13728.44</td>\n",
       "      <td>1.0</td>\n",
       "    </tr>\n",
       "  </tbody>\n",
       "</table>\n",
       "</div>"
      ],
      "text/plain": [
       "        CIF  MAX_DEBT_GRP_9M  AMT_AVAIL_LIAB  BAD\n",
       "0   4824585             -1.0     72870429.83  0.0\n",
       "1   4824586             -1.0     72960000.95  0.0\n",
       "2   4824587             -1.0     31920903.02  0.0\n",
       "51  4824862              2.0      4434012.32  1.0\n",
       "52  4825573              2.0        13728.44  1.0"
      ]
     },
     "execution_count": 48,
     "metadata": {},
     "output_type": "execute_result"
    }
   ],
   "source": [
    "test = data.iloc[[0,1,2,51,52]]\n",
    "test"
   ]
  },
  {
   "cell_type": "code",
   "execution_count": 49,
   "id": "ced46524",
   "metadata": {},
   "outputs": [],
   "source": [
    "var = ['MAX_DEBT_GRP_9M', 'AMT_AVAIL_LIAB']"
   ]
  },
  {
   "cell_type": "code",
   "execution_count": 50,
   "id": "de06f539",
   "metadata": {},
   "outputs": [],
   "source": [
    "X = test[var].to_numpy()\n",
    "Y = test['BAD'].to_numpy()"
   ]
  },
  {
   "cell_type": "code",
   "execution_count": 51,
   "id": "715ce43f",
   "metadata": {},
   "outputs": [
    {
     "data": {
      "text/plain": [
       "array([[-2.        ,  2.99386047],\n",
       "       [-2.        ,  3.        ],\n",
       "       [-2.        ,  0.18703256],\n",
       "       [ 3.        , -1.69701784],\n",
       "       [ 3.        , -2.        ]])"
      ]
     },
     "execution_count": 51,
     "metadata": {},
     "output_type": "execute_result"
    }
   ],
   "source": [
    "from sklearn.preprocessing import MinMaxScaler\n",
    "\n",
    "scaler = MinMaxScaler(feature_range=(-2,3))\n",
    "X = scaler.fit_transform(X)\n",
    "X"
   ]
  },
  {
   "cell_type": "code",
   "execution_count": 10,
   "id": "e43f6f8e",
   "metadata": {},
   "outputs": [
    {
     "data": {
      "text/plain": [
       "array([[-2.  ,  2.99],\n",
       "       [-2.  ,  3.  ],\n",
       "       [-2.  ,  0.19],\n",
       "       [ 3.  , -1.7 ],\n",
       "       [ 3.  , -2.  ]])"
      ]
     },
     "execution_count": 10,
     "metadata": {},
     "output_type": "execute_result"
    }
   ],
   "source": [
    "import numpy as np\n",
    "X = np.round(X,2)\n",
    "X"
   ]
  },
  {
   "cell_type": "code",
   "execution_count": 11,
   "id": "0802737a",
   "metadata": {},
   "outputs": [
    {
     "data": {
      "text/plain": [
       "array([0., 0., 0., 1., 1.])"
      ]
     },
     "execution_count": 11,
     "metadata": {},
     "output_type": "execute_result"
    }
   ],
   "source": [
    "Y"
   ]
  },
  {
   "cell_type": "code",
   "execution_count": 52,
   "id": "df2f8f51",
   "metadata": {},
   "outputs": [],
   "source": [
    "layers=[2,2,2,1]"
   ]
  },
  {
   "cell_type": "code",
   "execution_count": 53,
   "id": "e7247b43",
   "metadata": {},
   "outputs": [],
   "source": [
    "W = [np.array([[ 0.62964237, -0.75029457], [ 0.5707171 ,  1.4639367 ]]),\n",
    "     np.array([[ 0.62964237, -0.75029457],[ 0.5707171 ,  1.4639367 ]]),\n",
    "     np.array([[ 0.7270484 ],[-0.86636555]])]\n",
    "b = [np.array([[0], [0]]), np.array([[ 0], [0]]), np.array([[0.]])]"
   ]
  },
  {
   "cell_type": "code",
   "execution_count": 54,
   "id": "191eabfe",
   "metadata": {},
   "outputs": [
    {
     "name": "stdout",
     "output_type": "stream",
     "text": [
      "Epoch 0, loss 0.5920758749529749\n",
      "Epoch 0, loss 0.5491476241583364\n",
      "Epoch 0, loss 0.49276135058005854\n",
      "Epoch 0, loss 0.7052355516842326\n",
      "Epoch 0, loss 0.667359543750936\n"
     ]
    }
   ],
   "source": [
    "size = 5\n",
    "alpha = 0.1\n",
    "for i in range(size):\n",
    "    fit(X=X[i:i+1], y=Y[i:i+1], epochs=1, verbose=1)"
   ]
  },
  {
   "cell_type": "code",
   "execution_count": 55,
   "id": "f247efc7",
   "metadata": {},
   "outputs": [
    {
     "data": {
      "text/plain": [
       "0.6157974643314569"
      ]
     },
     "execution_count": 55,
     "metadata": {},
     "output_type": "execute_result"
    }
   ],
   "source": [
    "calculate_loss(X, Y)"
   ]
  },
  {
   "cell_type": "markdown",
   "id": "5c570322",
   "metadata": {},
   "source": [
    "### Library"
   ]
  },
  {
   "cell_type": "code",
   "execution_count": 42,
   "id": "bc68c5e3",
   "metadata": {},
   "outputs": [],
   "source": [
    "import tensorflow as tf\n",
    "from tensorflow.keras.models import Sequential, Model\n",
    "from tensorflow.keras.optimizers import Adam\n",
    "from tensorflow.keras.metrics import AUC\n",
    "from tensorflow.keras.optimizers import SGD\n",
    "\n",
    "init = tf.keras.initializers.GlorotNormal(seed=123)"
   ]
  },
  {
   "cell_type": "code",
   "execution_count": 56,
   "id": "7927f663",
   "metadata": {},
   "outputs": [],
   "source": [
    "learning_rate = 0.1\n",
    "model = tf.keras.Sequential([\n",
    "    tf.keras.layers.Dense(2, input_shape=(X.shape[1],), activation='sigmoid',kernel_initializer=init),\n",
    "    tf.keras.layers.Dense(2, activation='sigmoid',kernel_initializer=init),\n",
    "    tf.keras.layers.Dense(1, activation='sigmoid',kernel_initializer=init)\n",
    "])\n",
    "\n",
    "model.compile(optimizer=SGD(learning_rate=0.1), loss='binary_crossentropy')"
   ]
  },
  {
   "cell_type": "code",
   "execution_count": 57,
   "id": "4336a348",
   "metadata": {},
   "outputs": [
    {
     "data": {
      "text/plain": [
       "[<tf.Variable 'dense_15/kernel:0' shape=(2, 2) dtype=float32, numpy=\n",
       " array([[ 0.62964237, -0.75029457],\n",
       "        [ 0.5707171 ,  1.4639367 ]], dtype=float32)>,\n",
       " <tf.Variable 'dense_15/bias:0' shape=(2,) dtype=float32, numpy=array([0., 0.], dtype=float32)>,\n",
       " <tf.Variable 'dense_16/kernel:0' shape=(2, 2) dtype=float32, numpy=\n",
       " array([[ 0.62964237, -0.75029457],\n",
       "        [ 0.5707171 ,  1.4639367 ]], dtype=float32)>,\n",
       " <tf.Variable 'dense_16/bias:0' shape=(2,) dtype=float32, numpy=array([0., 0.], dtype=float32)>,\n",
       " <tf.Variable 'dense_17/kernel:0' shape=(2, 1) dtype=float32, numpy=\n",
       " array([[ 0.7270484 ],\n",
       "        [-0.86636555]], dtype=float32)>,\n",
       " <tf.Variable 'dense_17/bias:0' shape=(1,) dtype=float32, numpy=array([0.], dtype=float32)>]"
      ]
     },
     "execution_count": 57,
     "metadata": {},
     "output_type": "execute_result"
    }
   ],
   "source": [
    "model.weights"
   ]
  },
  {
   "cell_type": "code",
   "execution_count": 58,
   "id": "bacc3e2e",
   "metadata": {},
   "outputs": [
    {
     "name": "stdout",
     "output_type": "stream",
     "text": [
      "5/5 [==============================] - 0s 2ms/step - loss: 0.6438\n"
     ]
    },
    {
     "data": {
      "text/plain": [
       "<keras.callbacks.History at 0x1a042d76c10>"
      ]
     },
     "execution_count": 58,
     "metadata": {},
     "output_type": "execute_result"
    }
   ],
   "source": [
    "model.fit(X, Y, epochs=1, batch_size=1, shuffle=False)"
   ]
  },
  {
   "cell_type": "code",
   "execution_count": 59,
   "id": "627ff98e",
   "metadata": {},
   "outputs": [
    {
     "name": "stdout",
     "output_type": "stream",
     "text": [
      "5/5 [==============================] - 0s 1ms/step - loss: 0.6158\n"
     ]
    },
    {
     "data": {
      "text/plain": [
       "0.6157975196838379"
      ]
     },
     "execution_count": 59,
     "metadata": {},
     "output_type": "execute_result"
    }
   ],
   "source": [
    "model.evaluate(X, Y, batch_size=1)"
   ]
  },
  {
   "cell_type": "code",
   "execution_count": 60,
   "id": "434ea045",
   "metadata": {},
   "outputs": [
    {
     "name": "stdout",
     "output_type": "stream",
     "text": [
      "1/1 [==============================] - 0s 45ms/step\n"
     ]
    },
    {
     "data": {
      "text/plain": [
       "array([[0.44606495],\n",
       "       [0.4461092 ],\n",
       "       [0.4326131 ],\n",
       "       [0.5150875 ],\n",
       "       [0.5130615 ]], dtype=float32)"
      ]
     },
     "execution_count": 60,
     "metadata": {},
     "output_type": "execute_result"
    }
   ],
   "source": [
    "model.predict(X)"
   ]
  }
 ],
 "metadata": {
  "kernelspec": {
   "display_name": "Python 3",
   "language": "python",
   "name": "python3"
  },
  "language_info": {
   "codemirror_mode": {
    "name": "ipython",
    "version": 3
   },
   "file_extension": ".py",
   "mimetype": "text/x-python",
   "name": "python",
   "nbconvert_exporter": "python",
   "pygments_lexer": "ipython3",
   "version": "3.8.8"
  }
 },
 "nbformat": 4,
 "nbformat_minor": 5
}
